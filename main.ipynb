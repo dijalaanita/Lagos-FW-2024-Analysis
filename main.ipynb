{
 "cells": [
  {
   "cell_type": "code",
   "execution_count": null,
   "id": "9abe042e",
   "metadata": {
    "vscode": {
     "languageId": "plaintext"
    }
   },
   "outputs": [],
   "source": [
    "import requests\n",
    "from bs4 import BeautifulSoup\n",
    "import os\n",
    "from selenium import webdriver\n",
    "from selenium.webdriver.common.by import By\n",
    "import time"
   ]
  },
  {
   "cell_type": "code",
   "execution_count": null,
   "id": "37c8fc19",
   "metadata": {
    "vscode": {
     "languageId": "plaintext"
    }
   },
   "outputs": [],
   "source": [
    "url1 = \"https://www.bellanaijastyle.com/imad-eduso-lagos-fw-2024/\"\n",
    "\n",
    "response1 = requests.get(url1)\n",
    "soup1 = BeautifulSoup(response1.content, 'html.parser')\n",
    "\n",
    "images1 = []\n",
    "for img1 in soup1.find_all('img1'):\n",
    "    src = img1.get('src')\n",
    "    if src and 'imad' in src:\n",
    "        images1.append(src)\n",
    "print(f\"Found {len(images1)} images from Imad Eduso collection.\")"
   ]
  },
  {
   "cell_type": "code",
   "execution_count": null,
   "id": "c49ee467",
   "metadata": {
    "vscode": {
     "languageId": "plaintext"
    }
   },
   "outputs": [],
   "source": [
    "os.makedirs('imad_eduso_images', exist_ok=True)\n",
    "\n",
    "for i, img_url in enumerate(images1):\n",
    "    img_data = requests.get(img_url).content\n",
    "    with open(os.path.join('imad_eduso_images', f'imad_eduso_{i+1}.jpg'), 'wb') as f:\n",
    "        f.write(img_data)"
   ]
  },
  {
   "cell_type": "code",
   "execution_count": null,
   "id": "d27d0812",
   "metadata": {
    "vscode": {
     "languageId": "plaintext"
    }
   },
   "outputs": [],
   "source": [
    "desc = []\n",
    "for p in soup1.find_all('p', class_='description'):\n",
    "    text = p.get_text(strip=True)\n",
    "    if 'Imad Eduso' in text:\n",
    "        desc.append(text)\n",
    "    \n",
    "print(desc[:10])"
   ]
  }
 ],
 "metadata": {
  "language_info": {
   "name": "python"
  }
 },
 "nbformat": 4,
 "nbformat_minor": 5
}
