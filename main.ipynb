{
 "cells": [
  {
   "cell_type": "code",
   "execution_count": 10,
   "id": "9abe042e",
   "metadata": {},
   "outputs": [],
   "source": [
    "import requests\n",
    "from bs4 import BeautifulSoup\n",
    "import os\n",
    "from selenium import webdriver\n",
    "from selenium.webdriver.common.by import By\n",
    "import time\n",
    "import instaloader\n",
    "from datetime import datetime\n",
    "import pandas as pd"
   ]
  },
  {
   "cell_type": "code",
   "execution_count": 2,
   "id": "37c8fc19",
   "metadata": {},
   "outputs": [
    {
     "name": "stdout",
     "output_type": "stream",
     "text": [
      "Found 0 images from Imad Eduso collection.\n"
     ]
    }
   ],
   "source": [
    "url1 = \"https://www.bellanaijastyle.com/imad-eduso-lagos-fw-2024/\"\n",
    "\n",
    "response1 = requests.get(url1)\n",
    "soup1 = BeautifulSoup(response1.content, 'html.parser')\n",
    "\n",
    "images1 = []\n",
    "for img1 in soup1.find_all('img1'):\n",
    "    src = img1.get('src')\n",
    "    if src and 'imad' in src:\n",
    "        images1.append(src)\n",
    "print(f\"Found {len(images1)} images from Imad Eduso collection.\")"
   ]
  },
  {
   "cell_type": "code",
   "execution_count": 3,
   "id": "c49ee467",
   "metadata": {},
   "outputs": [],
   "source": [
    "os.makedirs('imad_eduso_images', exist_ok=True)\n",
    "\n",
    "for i, img_url in enumerate(images1):\n",
    "    img_data = requests.get(img_url).content\n",
    "    with open(os.path.join('imad_eduso_images', f'imad_eduso_{i+1}.jpg'), 'wb') as f:\n",
    "        f.write(img_data)"
   ]
  },
  {
   "cell_type": "code",
   "execution_count": 4,
   "id": "d27d0812",
   "metadata": {},
   "outputs": [
    {
     "name": "stdout",
     "output_type": "stream",
     "text": [
      "[]\n"
     ]
    }
   ],
   "source": [
    "desc = []\n",
    "for p in soup1.find_all('p', class_='description'):\n",
    "    text = p.get_text(strip=True)\n",
    "    if 'Imad Eduso' in text:\n",
    "        desc.append(text)\n",
    "    \n",
    "print(desc[:10])"
   ]
  },
  {
   "cell_type": "code",
   "execution_count": 8,
   "id": "1fd679a2",
   "metadata": {},
   "outputs": [
    {
     "name": "stdout",
     "output_type": "stream",
     "text": [
      "Found 46 image elements.\n",
      "Image download completed.\n"
     ]
    }
   ],
   "source": [
    "driver = webdriver.Chrome()\n",
    "driver.get(url1)\n",
    "\n",
    "time.sleep(15)\n",
    "elements = driver.find_elements(By.TAG_NAME, 'img')\n",
    "print(f\"Found {len(elements)} image elements.\")\n",
    "\n",
    "for index, img in enumerate(elements):\n",
    "    src = img.get_attribute('src')\n",
    "    if src and src.startswith(\"http\"):\n",
    "        try:\n",
    "            img_data = requests.get(src).content\n",
    "            with open((f'imad_eduso_images{index+1}.jpg'), 'wb') as f:\n",
    "                f.write(img_data)\n",
    "        except Exception as e:\n",
    "            continue\n",
    "\n",
    "driver.quit()\n",
    "print(\"Image download completed.\")"
   ]
  },
  {
   "cell_type": "code",
   "execution_count": null,
   "id": "b999b4d3",
   "metadata": {},
   "outputs": [],
   "source": [
    "IG =instaloader.Instaloader()\n",
    "\n",
    "IG.load_session_from_file(\"dijalaanita\")\n",
    "\n",
    "profile = instaloader.Profile.from_username(IG.context, \"imadeduso_\")\n",
    "\n",
    "start_date = datetime(2024, 10, 1)\n",
    "end_date = datetime(2024, 10, 31, 23, 59, 59)\n",
    "\n",
    "posts = []\n",
    "\n",
    "for post in profile.get_posts():\n",
    "    post_date = post.date_utc\n",
    "    if start_date <= post_date <= end_date:\n",
    "        print(f\"getting posts from {post_date}...\")\n",
    "        captions = post.caption or \"\"\n",
    "        imad_insta_url = post.url\n",
    "\n",
    "        posts.append({\n",
    "            \"date\": post_date.strftime(\"%Y-%m-%d\"),\n",
    "            \"caption\": captions,\n",
    "            \"url\": imad_insta_url\n",
    "        })\n",
    "        print(\"Collected posts\")\n",
    "\n",
    "    time.sleep(2)\n",
    "print(f\"Total posts collected: {len(posts)}\")\n",
    "\n",
    "imad_df = pd.DataFrame(posts)\n",
    "output_file = f\"{'imadeduso_'}_posts_october_2024.csv\"\n",
    "imad_df.to_csv(output_file, index=False, encoding='utf-8')\n",
    "print(f\"Data saved to {output_file}\")"
   ]
  }
 ],
 "metadata": {
  "kernelspec": {
   "display_name": "Python 3",
   "language": "python",
   "name": "python3"
  },
  "language_info": {
   "codemirror_mode": {
    "name": "ipython",
    "version": 3
   },
   "file_extension": ".py",
   "mimetype": "text/x-python",
   "name": "python",
   "nbconvert_exporter": "python",
   "pygments_lexer": "ipython3",
   "version": "3.11.9"
  }
 },
 "nbformat": 4,
 "nbformat_minor": 5
}
