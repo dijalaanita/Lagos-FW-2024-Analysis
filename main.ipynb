{
 "cells": [
  {
   "cell_type": "code",
   "execution_count": 17,
   "id": "9abe042e",
   "metadata": {},
   "outputs": [],
   "source": [
    "import requests\n",
    "from bs4 import BeautifulSoup\n",
    "import os\n",
    "from selenium import webdriver\n",
    "from selenium.webdriver.common.by import By\n",
    "import time\n",
    "import instaloader\n",
    "from datetime import datetime\n",
    "import pandas as pd\n",
    "import tweepy"
   ]
  },
  {
   "cell_type": "code",
   "execution_count": 2,
   "id": "37c8fc19",
   "metadata": {},
   "outputs": [
    {
     "name": "stdout",
     "output_type": "stream",
     "text": [
      "Found 0 images from Imad Eduso collection.\n"
     ]
    }
   ],
   "source": [
    "url1 = \"https://www.bellanaijastyle.com/imad-eduso-lagos-fw-2024/\"\n",
    "\n",
    "response1 = requests.get(url1)\n",
    "soup1 = BeautifulSoup(response1.content, 'html.parser')\n",
    "\n",
    "images1 = []\n",
    "for img1 in soup1.find_all('img1'):\n",
    "    src = img1.get('src')\n",
    "    if src and 'imad' in src:\n",
    "        images1.append(src)\n",
    "print(f\"Found {len(images1)} images from Imad Eduso collection.\")"
   ]
  },
  {
   "cell_type": "code",
   "execution_count": 3,
   "id": "c49ee467",
   "metadata": {},
   "outputs": [],
   "source": [
    "os.makedirs('imad_eduso_images', exist_ok=True)\n",
    "\n",
    "for i, img_url in enumerate(images1):\n",
    "    img_data = requests.get(img_url).content\n",
    "    with open(os.path.join('imad_eduso_images', f'imad_eduso_{i+1}.jpg'), 'wb') as f:\n",
    "        f.write(img_data)"
   ]
  },
  {
   "cell_type": "code",
   "execution_count": 4,
   "id": "d27d0812",
   "metadata": {},
   "outputs": [
    {
     "name": "stdout",
     "output_type": "stream",
     "text": [
      "[]\n"
     ]
    }
   ],
   "source": [
    "desc = []\n",
    "for p in soup1.find_all('p', class_='description'):\n",
    "    text = p.get_text(strip=True)\n",
    "    if 'Imad Eduso' in text:\n",
    "        desc.append(text)\n",
    "    \n",
    "print(desc[:10])"
   ]
  },
  {
   "cell_type": "code",
   "execution_count": 21,
   "id": "1fd679a2",
   "metadata": {},
   "outputs": [
    {
     "name": "stdout",
     "output_type": "stream",
     "text": [
      "Found 46 image elements.\n",
      "Image download completed.\n"
     ]
    }
   ],
   "source": [
    "os.makedirs('imad_eduso_images', exist_ok=True)\n",
    "\n",
    "for i, img_url in enumerate(images1):\n",
    "    img_data = requests.get(img_url).content\n",
    "    with open(os.path.join('imad_eduso_images', f'imad_eduso_{i+1}.jpg'), 'wb') as f:\n",
    "        f.write(img_data)\n",
    "\n",
    "        \n",
    "driver = webdriver.Chrome()\n",
    "driver.get(url1)\n",
    "\n",
    "time.sleep(15)\n",
    "elements = driver.find_elements(By.TAG_NAME, 'img')\n",
    "print(f\"Found {len(elements)} image elements.\")\n",
    "\n",
    "for index, img in enumerate(elements):\n",
    "    src = img.get_attribute('src')\n",
    "    if src and src.startswith(\"http\"):\n",
    "        try:\n",
    "            img_data = requests.get(src).content\n",
    "            with open((f'imad_eduso_images/imad_eduso_images{index+1}.jpg'), 'wb') as f:\n",
    "                f.write(img_data)\n",
    "        except Exception as e:\n",
    "            continue\n",
    "\n",
    "driver.quit()\n",
    "print(\"Image download completed.\")"
   ]
  },
  {
   "cell_type": "code",
   "execution_count": null,
   "id": "e4cfb28d",
   "metadata": {},
   "outputs": [],
   "source": [
    "url_dict ={\n",
    "    \"bellanaija\": [\"https://www.bellanaijastyle.com/imad-eduso-lagos-fw-2024/\"],\n",
    "    \"fashionandco\": [\"https://www.fashionandco.ng/imad-eduso-lagos-fashion-week-2024/\"]    \n",
    "    }\n",
    "\n",
    "#os.makedirs('imad_eduso_images', exist_ok=True)"
   ]
  },
  {
   "cell_type": "code",
   "execution_count": 32,
   "id": "8cfb64e3",
   "metadata": {},
   "outputs": [
    {
     "name": "stdout",
     "output_type": "stream",
     "text": [
      "Found 135 image elements.\n",
      "Found 52 image elements.\n",
      "All Images from all websites downloaded.\n"
     ]
    }
   ],
   "source": [
    "driver = webdriver.Chrome()\n",
    "\n",
    "for web_page, urls in url_dict.items():\n",
    "    folder = os.path.join('imad_eduso_images', web_page)\n",
    "    if os.path.exists(folder):\n",
    "        continue\n",
    "    os.makedirs(folder, exist_ok=True)\n",
    "\n",
    "    for url in urls:\n",
    "        driver.get(url)\n",
    "        time.sleep(15)\n",
    "\n",
    "        elements = driver.find_elements(By.TAG_NAME, 'img')\n",
    "        print(f\"Found {len(elements)} image elements.\")\n",
    "\n",
    "        count = 0\n",
    "        for index, img in enumerate(elements):\n",
    "            src = img.get_attribute('src')\n",
    "            if src and src.startswith(\"http\"):\n",
    "                try:\n",
    "                    img_data = requests.get(src).content\n",
    "                    filename = f\"{'Imad_Eduso'}_{web_page}_{index+1}.jpg\"\n",
    "                    path = os.path.join(folder, filename)\n",
    "                    with open((path), 'wb') as f:\n",
    "                        f.write(img_data)\n",
    "                except Exception as e:\n",
    "                    print(f\"Error downloading image {src}: {e}\")\n",
    "                    continue\n",
    "        \n",
    "\n",
    "driver.quit()\n",
    "print(\"All Images from all websites downloaded.\")"
   ]
  },
  {
   "cell_type": "code",
   "execution_count": 45,
   "id": "a7aaab97",
   "metadata": {},
   "outputs": [
    {
     "name": "stdout",
     "output_type": "stream",
     "text": [
      "Processed 31 images for imad_eduso_images.\n",
      "\n",
      "All brands have been preprocessed!\n"
     ]
    }
   ],
   "source": [
    "import cv2\n",
    "import numpy as np\n",
    "\n",
    "dataset_dict = {\"imad_eduso_images\": [\"bellanaija\", \"fashionandco\"]}\n",
    "\n",
    "processed_pics = {}\n",
    "\n",
    "for imad_eduso, folders in dataset_dict.items():\n",
    "    eduso_img = []\n",
    "\n",
    "    for folder in folders:\n",
    "        folder_dir = os.path.join('imad_eduso_images', folder)\n",
    "        new_dir = os.path.join(folder_dir, \"processed\")\n",
    "        os.makedirs(new_dir, exist_ok = True)\n",
    "        \n",
    "        for img_name in os.listdir(folder_dir):\n",
    "            img_path = os.path.join(folder_dir, img_name)\n",
    "           \n",
    "            if not img_name.lower().endswith(('.jpg','.jpeg', '.png')):\n",
    "                continue\n",
    "            \n",
    "            if \"processed\" in img_path:\n",
    "                continue\n",
    "\n",
    "            try:\n",
    "                img = cv2.imread(img_path)\n",
    "                if img is not None:\n",
    "                    img = cv2.resize(img, (224,224))\n",
    "                    img = cv2.cvtColor(img, cv2.COLOR_BGR2RGB)\n",
    "                    img_norm = img / 255.0\n",
    "                    eduso_img.append(img_norm)\n",
    "                    cv2.imwrite(os.path.join(new_dir, img_name), cv2.cvtColor((img_norm * 255).astype(np.uint8), cv2.COLOR_RGB2BGR))\n",
    "            except Exception as e:\n",
    "                print(f\"Error processing image {img_name}: {e}\")\n",
    "                continue\n",
    "    processed_pics[imad_eduso] = np.array(eduso_img)\n",
    "    print(f\"Processed {len(eduso_img)} images for {imad_eduso}.\\n\")\n",
    "\n",
    "print(\"All brands have been preprocessed!\")"
   ]
  },
  {
   "cell_type": "code",
   "execution_count": 55,
   "id": "d7ecbb25",
   "metadata": {},
   "outputs": [
    {
     "name": "stdout",
     "output_type": "stream",
     "text": [
      "Collecting tensorflow\n",
      "  Using cached tensorflow-2.20.0-cp311-cp311-win_amd64.whl.metadata (4.6 kB)\n",
      "Requirement already satisfied: absl-py>=1.0.0 in c:\\users\\user\\appdata\\local\\packages\\pythonsoftwarefoundation.python.3.11_qbz5n2kfra8p0\\localcache\\local-packages\\python311\\site-packages (from tensorflow) (2.3.1)\n",
      "Requirement already satisfied: astunparse>=1.6.0 in c:\\users\\user\\appdata\\local\\packages\\pythonsoftwarefoundation.python.3.11_qbz5n2kfra8p0\\localcache\\local-packages\\python311\\site-packages (from tensorflow) (1.6.3)\n",
      "Requirement already satisfied: flatbuffers>=24.3.25 in c:\\users\\user\\appdata\\local\\packages\\pythonsoftwarefoundation.python.3.11_qbz5n2kfra8p0\\localcache\\local-packages\\python311\\site-packages (from tensorflow) (25.9.23)\n",
      "Requirement already satisfied: gast!=0.5.0,!=0.5.1,!=0.5.2,>=0.2.1 in c:\\users\\user\\appdata\\local\\packages\\pythonsoftwarefoundation.python.3.11_qbz5n2kfra8p0\\localcache\\local-packages\\python311\\site-packages (from tensorflow) (0.6.0)\n",
      "Requirement already satisfied: google_pasta>=0.1.1 in c:\\users\\user\\appdata\\local\\packages\\pythonsoftwarefoundation.python.3.11_qbz5n2kfra8p0\\localcache\\local-packages\\python311\\site-packages (from tensorflow) (0.2.0)\n",
      "Requirement already satisfied: libclang>=13.0.0 in c:\\users\\user\\appdata\\local\\packages\\pythonsoftwarefoundation.python.3.11_qbz5n2kfra8p0\\localcache\\local-packages\\python311\\site-packages (from tensorflow) (18.1.1)\n",
      "Requirement already satisfied: opt_einsum>=2.3.2 in c:\\users\\user\\appdata\\local\\packages\\pythonsoftwarefoundation.python.3.11_qbz5n2kfra8p0\\localcache\\local-packages\\python311\\site-packages (from tensorflow) (3.4.0)\n",
      "Requirement already satisfied: packaging in c:\\users\\user\\appdata\\local\\packages\\pythonsoftwarefoundation.python.3.11_qbz5n2kfra8p0\\localcache\\local-packages\\python311\\site-packages (from tensorflow) (25.0)\n",
      "Requirement already satisfied: protobuf>=5.28.0 in c:\\users\\user\\appdata\\local\\packages\\pythonsoftwarefoundation.python.3.11_qbz5n2kfra8p0\\localcache\\local-packages\\python311\\site-packages (from tensorflow) (6.33.0)\n",
      "Requirement already satisfied: requests<3,>=2.21.0 in c:\\users\\user\\appdata\\local\\packages\\pythonsoftwarefoundation.python.3.11_qbz5n2kfra8p0\\localcache\\local-packages\\python311\\site-packages (from tensorflow) (2.32.4)\n",
      "Requirement already satisfied: setuptools in c:\\program files\\windowsapps\\pythonsoftwarefoundation.python.3.11_3.11.2544.0_x64__qbz5n2kfra8p0\\lib\\site-packages (from tensorflow) (65.5.0)\n",
      "Requirement already satisfied: six>=1.12.0 in c:\\users\\user\\appdata\\local\\packages\\pythonsoftwarefoundation.python.3.11_qbz5n2kfra8p0\\localcache\\local-packages\\python311\\site-packages (from tensorflow) (1.17.0)\n",
      "Requirement already satisfied: termcolor>=1.1.0 in c:\\users\\user\\appdata\\local\\packages\\pythonsoftwarefoundation.python.3.11_qbz5n2kfra8p0\\localcache\\local-packages\\python311\\site-packages (from tensorflow) (3.2.0)\n",
      "Requirement already satisfied: typing_extensions>=3.6.6 in c:\\users\\user\\appdata\\local\\packages\\pythonsoftwarefoundation.python.3.11_qbz5n2kfra8p0\\localcache\\local-packages\\python311\\site-packages (from tensorflow) (4.15.0)\n",
      "Requirement already satisfied: wrapt>=1.11.0 in c:\\users\\user\\appdata\\local\\packages\\pythonsoftwarefoundation.python.3.11_qbz5n2kfra8p0\\localcache\\local-packages\\python311\\site-packages (from tensorflow) (2.0.0)\n",
      "Requirement already satisfied: grpcio<2.0,>=1.24.3 in c:\\users\\user\\appdata\\local\\packages\\pythonsoftwarefoundation.python.3.11_qbz5n2kfra8p0\\localcache\\local-packages\\python311\\site-packages (from tensorflow) (1.76.0)\n",
      "Requirement already satisfied: tensorboard~=2.20.0 in c:\\users\\user\\appdata\\local\\packages\\pythonsoftwarefoundation.python.3.11_qbz5n2kfra8p0\\localcache\\local-packages\\python311\\site-packages (from tensorflow) (2.20.0)\n",
      "Requirement already satisfied: keras>=3.10.0 in c:\\users\\user\\appdata\\local\\packages\\pythonsoftwarefoundation.python.3.11_qbz5n2kfra8p0\\localcache\\local-packages\\python311\\site-packages (from tensorflow) (3.11.3)\n",
      "Requirement already satisfied: numpy>=1.26.0 in c:\\users\\user\\appdata\\local\\packages\\pythonsoftwarefoundation.python.3.11_qbz5n2kfra8p0\\localcache\\local-packages\\python311\\site-packages (from tensorflow) (2.2.6)\n",
      "Requirement already satisfied: h5py>=3.11.0 in c:\\users\\user\\appdata\\local\\packages\\pythonsoftwarefoundation.python.3.11_qbz5n2kfra8p0\\localcache\\local-packages\\python311\\site-packages (from tensorflow) (3.15.1)\n",
      "Requirement already satisfied: ml_dtypes<1.0.0,>=0.5.1 in c:\\users\\user\\appdata\\local\\packages\\pythonsoftwarefoundation.python.3.11_qbz5n2kfra8p0\\localcache\\local-packages\\python311\\site-packages (from tensorflow) (0.5.3)\n",
      "Requirement already satisfied: charset_normalizer<4,>=2 in c:\\users\\user\\appdata\\local\\packages\\pythonsoftwarefoundation.python.3.11_qbz5n2kfra8p0\\localcache\\local-packages\\python311\\site-packages (from requests<3,>=2.21.0->tensorflow) (3.4.2)\n",
      "Requirement already satisfied: idna<4,>=2.5 in c:\\users\\user\\appdata\\local\\packages\\pythonsoftwarefoundation.python.3.11_qbz5n2kfra8p0\\localcache\\local-packages\\python311\\site-packages (from requests<3,>=2.21.0->tensorflow) (3.10)\n",
      "Requirement already satisfied: urllib3<3,>=1.21.1 in c:\\users\\user\\appdata\\local\\packages\\pythonsoftwarefoundation.python.3.11_qbz5n2kfra8p0\\localcache\\local-packages\\python311\\site-packages (from requests<3,>=2.21.0->tensorflow) (2.5.0)\n",
      "Requirement already satisfied: certifi>=2017.4.17 in c:\\users\\user\\appdata\\local\\packages\\pythonsoftwarefoundation.python.3.11_qbz5n2kfra8p0\\localcache\\local-packages\\python311\\site-packages (from requests<3,>=2.21.0->tensorflow) (2025.10.5)\n",
      "Requirement already satisfied: markdown>=2.6.8 in c:\\users\\user\\appdata\\local\\packages\\pythonsoftwarefoundation.python.3.11_qbz5n2kfra8p0\\localcache\\local-packages\\python311\\site-packages (from tensorboard~=2.20.0->tensorflow) (3.9)\n",
      "Requirement already satisfied: pillow in c:\\users\\user\\appdata\\local\\packages\\pythonsoftwarefoundation.python.3.11_qbz5n2kfra8p0\\localcache\\local-packages\\python311\\site-packages (from tensorboard~=2.20.0->tensorflow) (11.3.0)\n",
      "Requirement already satisfied: tensorboard-data-server<0.8.0,>=0.7.0 in c:\\users\\user\\appdata\\local\\packages\\pythonsoftwarefoundation.python.3.11_qbz5n2kfra8p0\\localcache\\local-packages\\python311\\site-packages (from tensorboard~=2.20.0->tensorflow) (0.7.2)\n",
      "Requirement already satisfied: werkzeug>=1.0.1 in c:\\users\\user\\appdata\\local\\packages\\pythonsoftwarefoundation.python.3.11_qbz5n2kfra8p0\\localcache\\local-packages\\python311\\site-packages (from tensorboard~=2.20.0->tensorflow) (3.1.3)\n",
      "Requirement already satisfied: wheel<1.0,>=0.23.0 in c:\\users\\user\\appdata\\local\\packages\\pythonsoftwarefoundation.python.3.11_qbz5n2kfra8p0\\localcache\\local-packages\\python311\\site-packages (from astunparse>=1.6.0->tensorflow) (0.45.1)\n",
      "Requirement already satisfied: rich in c:\\users\\user\\appdata\\local\\packages\\pythonsoftwarefoundation.python.3.11_qbz5n2kfra8p0\\localcache\\local-packages\\python311\\site-packages (from keras>=3.10.0->tensorflow) (14.2.0)\n",
      "Requirement already satisfied: namex in c:\\users\\user\\appdata\\local\\packages\\pythonsoftwarefoundation.python.3.11_qbz5n2kfra8p0\\localcache\\local-packages\\python311\\site-packages (from keras>=3.10.0->tensorflow) (0.1.0)\n",
      "Requirement already satisfied: optree in c:\\users\\user\\appdata\\local\\packages\\pythonsoftwarefoundation.python.3.11_qbz5n2kfra8p0\\localcache\\local-packages\\python311\\site-packages (from keras>=3.10.0->tensorflow) (0.17.0)\n",
      "Requirement already satisfied: MarkupSafe>=2.1.1 in c:\\users\\user\\appdata\\local\\packages\\pythonsoftwarefoundation.python.3.11_qbz5n2kfra8p0\\localcache\\local-packages\\python311\\site-packages (from werkzeug>=1.0.1->tensorboard~=2.20.0->tensorflow) (3.0.2)\n",
      "Requirement already satisfied: markdown-it-py>=2.2.0 in c:\\users\\user\\appdata\\local\\packages\\pythonsoftwarefoundation.python.3.11_qbz5n2kfra8p0\\localcache\\local-packages\\python311\\site-packages (from rich->keras>=3.10.0->tensorflow) (4.0.0)\n",
      "Requirement already satisfied: pygments<3.0.0,>=2.13.0 in c:\\users\\user\\appdata\\local\\packages\\pythonsoftwarefoundation.python.3.11_qbz5n2kfra8p0\\localcache\\local-packages\\python311\\site-packages (from rich->keras>=3.10.0->tensorflow) (2.19.2)\n",
      "Requirement already satisfied: mdurl~=0.1 in c:\\users\\user\\appdata\\local\\packages\\pythonsoftwarefoundation.python.3.11_qbz5n2kfra8p0\\localcache\\local-packages\\python311\\site-packages (from markdown-it-py>=2.2.0->rich->keras>=3.10.0->tensorflow) (0.1.2)\n",
      "Using cached tensorflow-2.20.0-cp311-cp311-win_amd64.whl (331.8 MB)\n",
      "Installing collected packages: tensorflow\n"
     ]
    },
    {
     "name": "stderr",
     "output_type": "stream",
     "text": [
      "ERROR: Could not install packages due to an OSError: [Errno 2] No such file or directory: 'C:\\\\Users\\\\User\\\\AppData\\\\Local\\\\Packages\\\\PythonSoftwareFoundation.Python.3.11_qbz5n2kfra8p0\\\\LocalCache\\\\local-packages\\\\Python311\\\\site-packages\\\\tensorflow\\\\include\\\\external\\\\com_github_grpc_grpc\\\\src\\\\core\\\\ext\\\\filters\\\\fault_injection\\\\fault_injection_service_config_parser.h'\n",
      "HINT: This error might have occurred since this system does not have Windows Long Path support enabled. You can find information on how to enable this at https://pip.pypa.io/warnings/enable-long-paths\n",
      "\n"
     ]
    }
   ],
   "source": [
    "!pip install tensorflow"
   ]
  },
  {
   "cell_type": "code",
   "execution_count": null,
   "id": "83a2f4b0",
   "metadata": {},
   "outputs": [],
   "source": [
    "from tensorflow.keras.applications import VGG16\n",
    "from tensorflow.keras.preprocessing.image import ImageDataGenerator\n",
    "from tensorflow.keras.models import Model\n",
    "from sklearn.decomposistion import PCA\n",
    "import numpy as np\n",
    "import matplotlib.pyplot as plt\n",
    "\n",
    "mini_CNN = VGG16(weights='imagenet', include_top=False, pooling='avg')\n",
    "\n",
    "imgen = ImageDataGenerator(rescale=1./255)\n",
    "gen = imgen.flow_from_directory('imad_eduso_images', target_size=(224,224), batch_size=32, class_mode=None, shuffle=False)\n",
    "\n",
    "features = mini_CNN.predict(gen)\n",
    "\n",
    "filenames = gen.filenames\n",
    "np.save('imad_eduso_features.npy', features)\n",
    "np.save('imad_eduso_files.npy', filenames)"
   ]
  },
  {
   "cell_type": "code",
   "execution_count": null,
   "id": "ad9d37a1",
   "metadata": {},
   "outputs": [],
   "source": [
    "X = np.load('imad_eduso_features.npy')\n",
    "y = np.load('imad_eduso_files.npy')\n",
    "\n",
    "pca = PCA(n_components=2)\n",
    "pca_results = pca.fit_transform(X)\n",
    "\n",
    "plt.figure(figsize=(10,8))\n",
    "plt.scatter(pca_results[:,0], pca_results[:,1], aplha=0.6)\n",
    "plt.title('IMAD EDUSO - PCA of Image Features')\n",
    "plt.xlabel('Principal Component 1')\n",
    "plt.ylabel('Principal Component 2')\n",
    "plt.show()"
   ]
  },
  {
   "cell_type": "code",
   "execution_count": null,
   "id": "b999b4d3",
   "metadata": {},
   "outputs": [],
   "source": [
    "IG =instaloader.Instaloader()\n",
    "\n",
    "IG.load_session_from_file(\"dijalaanita\")\n",
    "\n",
    "profile = instaloader.Profile.from_username(IG.context, \"imadeduso_\")\n",
    "\n",
    "start_date = datetime(2024, 10, 1)\n",
    "end_date = datetime(2024, 10, 31, 23, 59, 59)\n",
    "\n",
    "posts = []\n",
    "\n",
    "for post in profile.get_posts():\n",
    "    post_date = post.date_utc\n",
    "    if start_date <= post_date <= end_date:\n",
    "        print(f\"getting posts from {post_date}...\")\n",
    "        captions = post.caption or \"\"\n",
    "        imad_insta_url = post.url\n",
    "\n",
    "        posts.append({\n",
    "            \"date\": post_date.strftime(\"%Y-%m-%d\"),\n",
    "            \"caption\": captions,\n",
    "            \"url\": imad_insta_url\n",
    "        })\n",
    "        print(\"Collected posts\")\n",
    "\n",
    "    time.sleep(2)\n",
    "print(f\"Total posts collected: {len(posts)}\")\n",
    "\n",
    "imad_df = pd.DataFrame(posts)\n",
    "output_file = f\"{'imadeduso_'}_posts_october_2024.csv\"\n",
    "imad_df.to_csv(output_file, index=False, encoding='utf-8')\n",
    "print(f\"Data saved to {output_file}\")"
   ]
  },
  {
   "cell_type": "code",
   "execution_count": null,
   "id": "76508cf4",
   "metadata": {},
   "outputs": [],
   "source": [
    "api_key = \"FgYB0fGNXJY8XdF3SmjtZVE8z\"\n",
    "api_secret = \"kRsZzEj0e8gxquFiVJZ6dxKiaGouBLyl7ARgfCLVQhUtmQylcv\"\n",
    "access_token = \"1950209199134171136-c8o8KDdZTK3Qho95wbJj4oJw9RxNFm\"\n",
    "access_secret = \"7CCCWnYhCgAaNprSAcu5T9EtZHFpPIRI9pzeUHGe9ZcbA\"\n",
    "\n",
    "auth = tweepy.OAuthHandler(api_key, api_secret)\n",
    "auth.set_access_token(access_token, access_secret)\n",
    "api = tweepy.API(auth)\n",
    "\n",
    "tweets = api.search_tweets(q=\"Imad Eduso\", lang=\"en\", since=\"2024-10-01\", until=\"2024-10-31\", count=100)\n",
    "for tweet in tweets:\n",
    "    print(f\"{tweet.user.screen_name}: {tweet.text}\\n\")"
   ]
  },
  {
   "cell_type": "code",
   "execution_count": null,
   "id": "3c6e2008",
   "metadata": {},
   "outputs": [],
   "source": [
    "bearer_token = \"AAAAAAAAAAAAAAAAAAAAAPsY5AEAAAAAIdhqY%2BHpZq4XBnxOk%2Bg6p5hDKH4%3DsjSdeFDBCzCwthLOyxD049nGXOAUot8VGMa7uSZr3lsf7iKLNr\"\n",
    "\n",
    "client = tweepy.Client(bearer_token=bearer_token)\n",
    "\n",
    "query = \"Imad Eduso -is:retweet lang:en\"\n",
    "start_date = \"2024-10-01T00:00:00Z\"\n",
    "end_date = \"2024-10-31T23:59:59Z\"\n",
    "\n",
    "tweets = client.search_recent_tweets(query=query, start_time=start_date, end_time=end_date, max_results=40, tweet_fields=['created_at', 'text', 'public_metrics', 'author_id'])\n",
    "\n",
    "if tweets.data:\n",
    "    for tweet in tweets.data:\n",
    "        print(f\"Created at: {tweet.created_at}\")\n",
    "        print(f\"Text: {tweet.text}\")\n",
    "        print(\"\\n\")\n",
    "else:\n",
    "    print(\"No tweets found for the given query and date range.\")"
   ]
  }
 ],
 "metadata": {
  "kernelspec": {
   "display_name": "Python 3",
   "language": "python",
   "name": "python3"
  },
  "language_info": {
   "codemirror_mode": {
    "name": "ipython",
    "version": 3
   },
   "file_extension": ".py",
   "mimetype": "text/x-python",
   "name": "python",
   "nbconvert_exporter": "python",
   "pygments_lexer": "ipython3",
   "version": "3.11.9"
  }
 },
 "nbformat": 4,
 "nbformat_minor": 5
}
