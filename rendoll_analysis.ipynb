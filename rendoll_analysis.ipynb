{
 "cells": [
  {
   "cell_type": "code",
   "execution_count": 1,
   "id": "9abe042e",
   "metadata": {},
   "outputs": [],
   "source": [
    "import requests\n",
    "from bs4 import BeautifulSoup\n",
    "import os\n",
    "from selenium import webdriver\n",
    "from selenium.webdriver.common.by import By\n",
    "import time\n",
    "#import instaloader\n",
    "from datetime import datetime\n",
    "import pandas as pd\n",
    "#import tweepy"
   ]
  },
  {
   "cell_type": "code",
   "execution_count": 2,
   "id": "e4cfb28d",
   "metadata": {},
   "outputs": [],
   "source": [
    "url_dict ={\n",
    "    \"bellanaija\": [\"https://www.bellanaija.com/2024/10/lagos-fashion-week-2024-rendoll/\"]\n",
    "    }\n",
    "\n",
    "#os.makedirs('imad_eduso_images', exist_ok=True)"
   ]
  },
  {
   "cell_type": "code",
   "execution_count": 3,
   "id": "8cfb64e3",
   "metadata": {},
   "outputs": [
    {
     "name": "stdout",
     "output_type": "stream",
     "text": [
      "Found 42 image elements.\n",
      "All Images from all websites downloaded.\n"
     ]
    }
   ],
   "source": [
    "driver = webdriver.Chrome()\n",
    "\n",
    "for web_page, urls in url_dict.items():\n",
    "    folder = os.path.join('rendoll_images', web_page)\n",
    "    if os.path.exists(folder):\n",
    "        continue\n",
    "    os.makedirs(folder, exist_ok=True)\n",
    "\n",
    "    for url in urls:\n",
    "        driver.get(url)\n",
    "        time.sleep(15)\n",
    "\n",
    "        elements = driver.find_elements(By.TAG_NAME, 'img')\n",
    "        print(f\"Found {len(elements)} image elements.\")\n",
    "\n",
    "        count = 0\n",
    "        for index, img in enumerate(elements):\n",
    "            src = img.get_attribute('src')\n",
    "            if src and src.startswith(\"http\"):\n",
    "                try:\n",
    "                    img_data = requests.get(src).content\n",
    "                    filename = f\"{'rendoll'}_{web_page}_{index+1}.jpg\"\n",
    "                    path = os.path.join(folder, filename)\n",
    "                    with open((path), 'wb') as f:\n",
    "                        f.write(img_data)\n",
    "                except Exception as e:\n",
    "                    print(f\"Error downloading image {src}: {e}\")\n",
    "                    continue\n",
    "        \n",
    "\n",
    "driver.quit()\n",
    "print(\"All Images from all websites downloaded.\")"
   ]
  },
  {
   "cell_type": "code",
   "execution_count": 4,
   "id": "a7aaab97",
   "metadata": {},
   "outputs": [
    {
     "name": "stdout",
     "output_type": "stream",
     "text": [
      "Processed 16 images for rendoll_images.\n",
      "\n",
      "All brands have been preprocessed!\n"
     ]
    }
   ],
   "source": [
    "import cv2\n",
    "import numpy as np\n",
    "\n",
    "dataset_dict = {\"rendoll_images\": [\"bellanaija\"]}\n",
    "\n",
    "processed_pics = {}\n",
    "\n",
    "for rendoll, folders in dataset_dict.items():\n",
    "    rendoll_img = []\n",
    "\n",
    "    for folder in folders:\n",
    "        folder_dir = os.path.join('rendoll_images', folder)\n",
    "        new_dir = os.path.join(folder_dir, \"processed\")\n",
    "        os.makedirs(new_dir, exist_ok = True)\n",
    "        \n",
    "        for img_name in os.listdir(folder_dir):\n",
    "            img_path = os.path.join(folder_dir, img_name)\n",
    "           \n",
    "            if not img_name.lower().endswith(('.jpg','.jpeg', '.png')):\n",
    "                continue\n",
    "            \n",
    "            if \"processed\" in img_path:\n",
    "                continue\n",
    "\n",
    "            try:\n",
    "                img = cv2.imread(img_path)\n",
    "                if img is not None:\n",
    "                    img = cv2.resize(img, (224,224))\n",
    "                    img = cv2.cvtColor(img, cv2.COLOR_BGR2RGB)\n",
    "                    img_norm = img / 255.0\n",
    "                    rendoll_img.append(img_norm)\n",
    "                    cv2.imwrite(os.path.join(new_dir, img_name), cv2.cvtColor((img_norm * 255).astype(np.uint8), cv2.COLOR_RGB2BGR))\n",
    "            except Exception as e:\n",
    "                print(f\"Error processing image {img_name}: {e}\")\n",
    "                continue\n",
    "    processed_pics[rendoll] = np.array(rendoll_img)\n",
    "    print(f\"Processed {len(rendoll_img)} images for {rendoll}.\\n\")\n",
    "\n",
    "print(\"All brands have been preprocessed!\")"
   ]
  },
  {
   "cell_type": "code",
   "execution_count": 9,
   "id": "83a2f4b0",
   "metadata": {},
   "outputs": [
    {
     "name": "stdout",
     "output_type": "stream",
     "text": [
      "Found 32 images belonging to 1 classes.\n"
     ]
    },
    {
     "name": "stderr",
     "output_type": "stream",
     "text": [
      "c:\\Users\\User\\Desktop\\Lagos-FW-2024-Analysis\\Lagos-FW-2024-Analysis-1\\fw_env\\lib\\site-packages\\keras\\src\\trainers\\data_adapters\\py_dataset_adapter.py:121: UserWarning: Your `PyDataset` class should call `super().__init__(**kwargs)` in its constructor. `**kwargs` can include `workers`, `use_multiprocessing`, `max_queue_size`. Do not pass these arguments to `fit()`, as they will be ignored.\n",
      "  self._warn_if_super_not_called()\n"
     ]
    },
    {
     "name": "stdout",
     "output_type": "stream",
     "text": [
      "WARNING:tensorflow:5 out of the last 5 calls to <function TensorFlowTrainer.make_predict_function.<locals>.one_step_on_data_distributed at 0x000002263B1C67A0> triggered tf.function retracing. Tracing is expensive and the excessive number of tracings could be due to (1) creating @tf.function repeatedly in a loop, (2) passing tensors with different shapes, (3) passing Python objects instead of tensors. For (1), please define your @tf.function outside of the loop. For (2), @tf.function has reduce_retracing=True option that can avoid unnecessary retracing. For (3), please refer to https://www.tensorflow.org/guide/function#controlling_retracing and https://www.tensorflow.org/api_docs/python/tf/function for  more details.\n",
      "\u001b[1m1/1\u001b[0m \u001b[32m━━━━━━━━━━━━━━━━━━━━\u001b[0m\u001b[37m\u001b[0m \u001b[1m5s\u001b[0m 5s/step\n"
     ]
    }
   ],
   "source": [
    "from tensorflow.keras.applications import VGG16\n",
    "from tensorflow.keras.preprocessing.image import ImageDataGenerator\n",
    "from tensorflow.keras.models import Model\n",
    "from sklearn.decomposition import PCA\n",
    "import numpy as np\n",
    "import matplotlib.pyplot as plt\n",
    "\n",
    "mini_CNN = VGG16(weights='imagenet', include_top=False, pooling='avg')\n",
    "\n",
    "imgen = ImageDataGenerator(rescale=1./255)\n",
    "gen = imgen.flow_from_directory('rendoll_images', target_size=(224,224), batch_size=32, class_mode=None, shuffle=False)\n",
    "\n",
    "features = mini_CNN.predict(gen)\n",
    "\n",
    "filenames = gen.filenames\n",
    "np.save('rendoll_features.npy', features)\n",
    "np.save('rendoll_files.npy', filenames)"
   ]
  },
  {
   "cell_type": "code",
   "execution_count": 10,
   "id": "ad9d37a1",
   "metadata": {},
   "outputs": [
    {
     "data": {
      "image/png": "[encoded data removed]",
      "text/plain": [
       "<Figure size 1000x800 with 1 Axes>"
      ]
     },
     "metadata": {},
     "output_type": "display_data"
    }
   ],
   "source": [
    "X = np.load('rendoll_features.npy')\n",
    "y = np.load('rendoll_files.npy')\n",
    "\n",
    "pca = PCA(n_components=2)\n",
    "pca_results = pca.fit_transform(X)\n",
    "\n",
    "plt.figure(figsize=(10,8))\n",
    "plt.scatter(pca_results[:,0], pca_results[:,1], alpha=0.6)\n",
    "plt.title('RENDOLL - PCA of Image Features')\n",
    "plt.xlabel('Principal Component 1')\n",
    "plt.ylabel('Principal Component 2')\n",
    "plt.show()"
   ]
  },
  {
   "cell_type": "code",
   "execution_count": 11,
   "id": "ed638cc5",
   "metadata": {},
   "outputs": [],
   "source": [
    "def extract_colors(image_path, n_colors=5):\n",
    "    img = cv2.imread(image_path)\n",
    "    img = cv2.cvtColor(img, cv2.COLOR_BGR2RGB)\n",
    "    img = cv2.resize(img, (224,224))\n",
    "    \n",
    "    # Reshape pixels for clustering\n",
    "    pixels = img.reshape(-1, 3)\n",
    "    \n",
    "    # Use KMeans to find dominant colors\n",
    "    from sklearn.cluster import KMeans\n",
    "    kmeans = KMeans(n_clusters=n_colors)\n",
    "    kmeans.fit(pixels)\n",
    "    \n",
    "    colors = kmeans.cluster_centers_.astype(int)\n",
    "    counts = np.bincount(kmeans.labels_)\n",
    "    \n",
    "    # Sort by frequency\n",
    "    sorted_colors = colors[np.argsort(-counts)]\n",
    "    return sorted_colors\n"
   ]
  },
  {
   "cell_type": "code",
   "execution_count": 12,
   "id": "cd5251d4",
   "metadata": {},
   "outputs": [],
   "source": [
    "brand_colors = []\n",
    "\n",
    "folder = 'rendoll_images/bellanaija/processed'\n",
    "for img_name in os.listdir(folder):\n",
    "    if img_name.endswith(('.jpg','.png')):\n",
    "        img_path = os.path.join(folder, img_name)\n",
    "        colors = extract_colors(img_path, n_colors=3)\n",
    "        brand_colors.extend(colors)\n",
    "\n",
    "# Convert to NumPy array\n",
    "brand_colors = np.array(brand_colors)\n"
   ]
  },
  {
   "cell_type": "code",
   "execution_count": 13,
   "id": "679bd647",
   "metadata": {},
   "outputs": [
    {
     "name": "stdout",
     "output_type": "stream",
     "text": [
      "Most common colors for brand: [[ 63  64  70]\n",
      " [186 192 209]\n",
      " [151 151  89]\n",
      " [207  44  65]\n",
      " [134 143 166]]\n"
     ]
    }
   ],
   "source": [
    "# Optional: cluster all colors across images to find overall dominant colors\n",
    "from sklearn.cluster import KMeans\n",
    "\n",
    "kmeans_all = KMeans(n_clusters=5)\n",
    "kmeans_all.fit(brand_colors)\n",
    "common_colors = kmeans_all.cluster_centers_.astype(int)\n",
    "\n",
    "print(\"Most common colors for brand:\", common_colors)\n"
   ]
  },
  {
   "cell_type": "code",
   "execution_count": 14,
   "id": "cbda4c82",
   "metadata": {},
   "outputs": [
    {
     "data": {
      "image/png": "[encoded data removed]",
      "text/plain": [
       "<Figure size 600x100 with 1 Axes>"
      ]
     },
     "metadata": {},
     "output_type": "display_data"
    }
   ],
   "source": [
    "import matplotlib.pyplot as plt\n",
    "\n",
    "plt.figure(figsize=(6,1))\n",
    "plt.imshow([common_colors])\n",
    "plt.axis('off')\n",
    "plt.show()\n"
   ]
  },
  {
   "cell_type": "code",
   "execution_count": null,
   "id": "b999b4d3",
   "metadata": {},
   "outputs": [],
   "source": [
    "IG =instaloader.Instaloader()\n",
    "\n",
    "IG.load_session_from_file(\"dijalaanita\")\n",
    "\n",
    "profile = instaloader.Profile.from_username(IG.context, \"imadeduso_\")\n",
    "\n",
    "start_date = datetime(2024, 10, 1)\n",
    "end_date = datetime(2024, 10, 31, 23, 59, 59)\n",
    "\n",
    "posts = []\n",
    "\n",
    "for post in profile.get_posts():\n",
    "    post_date = post.date_utc\n",
    "    if start_date <= post_date <= end_date:\n",
    "        print(f\"getting posts from {post_date}...\")\n",
    "        captions = post.caption or \"\"\n",
    "        imad_insta_url = post.url\n",
    "\n",
    "        posts.append({\n",
    "            \"date\": post_date.strftime(\"%Y-%m-%d\"),\n",
    "            \"caption\": captions,\n",
    "            \"url\": imad_insta_url\n",
    "        })\n",
    "        print(\"Collected posts\")\n",
    "\n",
    "    time.sleep(2)\n",
    "print(f\"Total posts collected: {len(posts)}\")\n",
    "\n",
    "imad_df = pd.DataFrame(posts)\n",
    "output_file = f\"{'imadeduso_'}_posts_october_2024.csv\"\n",
    "imad_df.to_csv(output_file, index=False, encoding='utf-8')\n",
    "print(f\"Data saved to {output_file}\")"
   ]
  },
  {
   "cell_type": "code",
   "execution_count": null,
   "id": "76508cf4",
   "metadata": {},
   "outputs": [],
   "source": [
    "api_key = \"FgYB0fGNXJY8XdF3SmjtZVE8z\"\n",
    "api_secret = \"kRsZzEj0e8gxquFiVJZ6dxKiaGouBLyl7ARgfCLVQhUtmQylcv\"\n",
    "access_token = \"1950209199134171136-c8o8KDdZTK3Qho95wbJj4oJw9RxNFm\"\n",
    "access_secret = \"7CCCWnYhCgAaNprSAcu5T9EtZHFpPIRI9pzeUHGe9ZcbA\"\n",
    "\n",
    "auth = tweepy.OAuthHandler(api_key, api_secret)\n",
    "auth.set_access_token(access_token, access_secret)\n",
    "api = tweepy.API(auth)\n",
    "\n",
    "tweets = api.search_tweets(q=\"Imad Eduso\", lang=\"en\", since=\"2024-10-01\", until=\"2024-10-31\", count=100)\n",
    "for tweet in tweets:\n",
    "    print(f\"{tweet.user.screen_name}: {tweet.text}\\n\")"
   ]
  },
  {
   "cell_type": "code",
   "execution_count": null,
   "id": "3c6e2008",
   "metadata": {},
   "outputs": [],
   "source": [
    "bearer_token = \"AAAAAAAAAAAAAAAAAAAAAPsY5AEAAAAAIdhqY%2BHpZq4XBnxOk%2Bg6p5hDKH4%3DsjSdeFDBCzCwthLOyxD049nGXOAUot8VGMa7uSZr3lsf7iKLNr\"\n",
    "\n",
    "client = tweepy.Client(bearer_token=bearer_token)\n",
    "\n",
    "query = \"Imad Eduso -is:retweet lang:en\"\n",
    "start_date = \"2024-10-01T00:00:00Z\"\n",
    "end_date = \"2024-10-31T23:59:59Z\"\n",
    "\n",
    "tweets = client.search_recent_tweets(query=query, start_time=start_date, end_time=end_date, max_results=40, tweet_fields=['created_at', 'text', 'public_metrics', 'author_id'])\n",
    "\n",
    "if tweets.data:\n",
    "    for tweet in tweets.data:\n",
    "        print(f\"Created at: {tweet.created_at}\")\n",
    "        print(f\"Text: {tweet.text}\")\n",
    "        print(\"\\n\")\n",
    "else:\n",
    "    print(\"No tweets found for the given query and date range.\")"
   ]
  }
 ],
 "metadata": {
  "kernelspec": {
   "display_name": "fw_env",
   "language": "python",
   "name": "python3"
  },
  "language_info": {
   "codemirror_mode": {
    "name": "ipython",
    "version": 3
   },
   "file_extension": ".py",
   "mimetype": "text/x-python",
   "name": "python",
   "nbconvert_exporter": "python",
   "pygments_lexer": "ipython3",
   "version": "3.10.11"
  }
 },
 "nbformat": 4,
 "nbformat_minor": 5
}
